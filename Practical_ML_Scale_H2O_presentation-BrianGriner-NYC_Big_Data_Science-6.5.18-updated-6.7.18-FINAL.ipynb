{
 "cells": [
  {
   "cell_type": "markdown",
   "metadata": {},
   "source": [
    "# Practical Machine Learning that Scales: Using H2O with Python to Accelerate ML and DL\n",
    "\n",
    "### Brian Griner\n",
    "\n",
    "June 5, 2018\n",
    "\n",
    "NYC Big Data Meetup\n",
    "\n",
    "![title](http://scikit-learn.org/stable/_images/sphx_glr_plot_partial_dependence_002.png)\n",
    "\n",
    "***\n",
    "## Intro\n",
    "If tuned properly, machine learning (ML) and deep learning (DL) algorithms are very powerful. However, the process of tuning an algorithm can increase the time it takes to do an analysis exponentially. While Python is a very expressive language for data science with lots of libraries for machine learning and deep learning, there are aspects of the language that can significantly slow down the process of algorithms tuning. For example, Python's use of global interpreter lock (GIL) that restricts processing to one instruction at a time regardless of the number of cores available. Fortunately there are programs to speed up the tuning process in Python like H2O. \n",
    "\n",
    "As you will see shortly, the H2O environment for Python is easy to use and can be run from a Jupyter Notebook. To demonstrate, we will review several ML and DL algorithms in H2O as well as modules in H2O for tuning them. We we also review H2O partial dependence plot graph feature that can be used to plot changes in feature importance over the domain of the model inputs for many ML algorithms. This notebook contains the material reiviewed in the presentation to help jump start your journey with H2O.\n",
    "\n",
    "Let us begin by posing a pragmatic question that is often hard to address when using ML or DL for business research. \n",
    "\n",
    "## Outline\n",
    "1. **Problem Statement** - How can we better understand Cause and Effect between inputs and outputs when using a complex machine learning or deep learning algorithm?\n",
    "\n",
    "2. **Feature Importance** - What is _Importance_? How do we measure it with?\n",
    "    - Linear models\n",
    "    - Machine learning algorithms\n",
    "    - Neural Networks\n",
    "\n",
    "\n",
    "3. **Partial Dependence Plots** demonstrated with Gradient Boosting Machine\n",
    "\n",
    "4. **Ensemble Learning**\n",
    "\n",
    "5. **End-to-End** ML\n",
    "\n",
    "\n",
    "**Research on Partial Dependence Plots**\n",
    "\n",
    "[Peeking Inside the Black Box: Visualizing Statistical Learning with Plots of Individual Conditional Expectation\n",
    "Alex Goldstein∗, Adam Kapelner†, Justin Bleich‡, and Emil Pitkin§\n",
    "The Wharton School of the University of Pennsylvania](https://arxiv.org/pdf/1309.6392.pdf)\n"
   ]
  },
  {
   "cell_type": "markdown",
   "metadata": {},
   "source": [
    "## The problem with using ML algorithms in business \n",
    "\n",
    "A. ML algorithms are hard to explain to your internal clients. \"Gradient Boosting what??? Oh, I get it. You used A.I., right?\"\n",
    "\n",
    "B. Many business problems require interpretation of model results (especially when the answer is the opposite of what the CEO wants it to be). Some examples in commercial analytics include:\n",
    "\n",
    "- What are the key drivers of new customer aquisition?\n",
    "- Which marketing promotions are driving business performance?\n",
    "- Is there a mix of promotional channels that will maximize my return on promotional spend?\n",
    "- How much should I spend on each promotional channel; i.e. what is the media mix?\n",
    "- Why is the forecast 20 percent lower than last year?\n",
    "- What can I do to make it 20 percent higher than last year? That is our mandate from the CEO.\n",
    "\n",
    "C. The connection between \"cause\" and \"effect\" in ML algorithms can be complicated or impossible to determine analytically. For example, using the gradients of a multilayer neural network or computing the marginal effects of the inputs from an ensemble learning algorithm.\n",
    "\n",
    "## Feature Importance\n",
    "\n",
    "In machine learning, feature importance is one way to understand the relative performace of an input. A simple explanation of how feature importance is determined in machine learning is **to examine the change in out of sample predictive accuracy when each one of the inputs is changed.**\n",
    "\n",
    "Some basic examples using the Pima Indians diabetes from UCI ML repository is presented below.\n",
    "***"
   ]
  },
  {
   "cell_type": "markdown",
   "metadata": {},
   "source": [
    "## Data Prep"
   ]
  },
  {
   "cell_type": "code",
   "execution_count": 1,
   "metadata": {},
   "outputs": [
    {
     "name": "stdout",
     "output_type": "stream",
     "text": [
      "Checking whether there is an H2O instance running at http://localhost:54321..... not found.\n",
      "Attempting to start a local H2O server...\n",
      "  Java Version: openjdk version \"1.8.0_121\"; OpenJDK Runtime Environment (Zulu 8.20.0.5-macosx) (build 1.8.0_121-b15); OpenJDK 64-Bit Server VM (Zulu 8.20.0.5-macosx) (build 25.121-b15, mixed mode)\n",
      "  Starting server from /Users/briangriner/anaconda3/h2o_jar/h2o.jar\n",
      "  Ice root: /var/folders/wk/s0z3vhzn06v_1qz645pk_20w0000gn/T/tmp9v4q3k2f\n",
      "  JVM stdout: /var/folders/wk/s0z3vhzn06v_1qz645pk_20w0000gn/T/tmp9v4q3k2f/h2o_briangriner_started_from_python.out\n",
      "  JVM stderr: /var/folders/wk/s0z3vhzn06v_1qz645pk_20w0000gn/T/tmp9v4q3k2f/h2o_briangriner_started_from_python.err\n",
      "  Server is running at http://127.0.0.1:54321\n",
      "Connecting to H2O server at http://127.0.0.1:54321... successful.\n"
     ]
    },
    {
     "data": {
      "text/html": [
       "<div style=\"overflow:auto\"><table style=\"width:50%\"><tr><td>H2O cluster uptime:</td>\n",
       "<td>02 secs</td></tr>\n",
       "<tr><td>H2O cluster timezone:</td>\n",
       "<td>America/New_York</td></tr>\n",
       "<tr><td>H2O data parsing timezone:</td>\n",
       "<td>UTC</td></tr>\n",
       "<tr><td>H2O cluster version:</td>\n",
       "<td>3.18.0.2</td></tr>\n",
       "<tr><td>H2O cluster version age:</td>\n",
       "<td>3 months and 1 day </td></tr>\n",
       "<tr><td>H2O cluster name:</td>\n",
       "<td>H2O_from_python_briangriner_7dlhqi</td></tr>\n",
       "<tr><td>H2O cluster total nodes:</td>\n",
       "<td>1</td></tr>\n",
       "<tr><td>H2O cluster free memory:</td>\n",
       "<td>3.556 Gb</td></tr>\n",
       "<tr><td>H2O cluster total cores:</td>\n",
       "<td>8</td></tr>\n",
       "<tr><td>H2O cluster allowed cores:</td>\n",
       "<td>8</td></tr>\n",
       "<tr><td>H2O cluster status:</td>\n",
       "<td>accepting new members, healthy</td></tr>\n",
       "<tr><td>H2O connection url:</td>\n",
       "<td>http://127.0.0.1:54321</td></tr>\n",
       "<tr><td>H2O connection proxy:</td>\n",
       "<td>None</td></tr>\n",
       "<tr><td>H2O internal security:</td>\n",
       "<td>False</td></tr>\n",
       "<tr><td>H2O API Extensions:</td>\n",
       "<td>XGBoost, Algos, AutoML, Core V3, Core V4</td></tr>\n",
       "<tr><td>Python version:</td>\n",
       "<td>3.6.3 final</td></tr></table></div>"
      ],
      "text/plain": [
       "--------------------------  ----------------------------------------\n",
       "H2O cluster uptime:         02 secs\n",
       "H2O cluster timezone:       America/New_York\n",
       "H2O data parsing timezone:  UTC\n",
       "H2O cluster version:        3.18.0.2\n",
       "H2O cluster version age:    3 months and 1 day\n",
       "H2O cluster name:           H2O_from_python_briangriner_7dlhqi\n",
       "H2O cluster total nodes:    1\n",
       "H2O cluster free memory:    3.556 Gb\n",
       "H2O cluster total cores:    8\n",
       "H2O cluster allowed cores:  8\n",
       "H2O cluster status:         accepting new members, healthy\n",
       "H2O connection url:         http://127.0.0.1:54321\n",
       "H2O connection proxy:\n",
       "H2O internal security:      False\n",
       "H2O API Extensions:         XGBoost, Algos, AutoML, Core V3, Core V4\n",
       "Python version:             3.6.3 final\n",
       "--------------------------  ----------------------------------------"
      ]
     },
     "metadata": {},
     "output_type": "display_data"
    },
    {
     "name": "stdout",
     "output_type": "stream",
     "text": [
      "Parse progress: |█████████████████████████████████████████████████████████| 100%\n",
      "['preg', 'gluc', 'dbp', 'skin', 'insul', 'bmi', 'pedi', 'age', 'class']\n"
     ]
    },
    {
     "data": {
      "text/html": [
       "<table>\n",
       "<thead>\n",
       "<tr><th style=\"text-align: right;\">  preg</th><th style=\"text-align: right;\">  gluc</th><th style=\"text-align: right;\">  dbp</th><th style=\"text-align: right;\">  skin</th><th style=\"text-align: right;\">  insul</th><th style=\"text-align: right;\">  bmi</th><th style=\"text-align: right;\">  pedi</th><th style=\"text-align: right;\">  age</th><th style=\"text-align: right;\">  class</th></tr>\n",
       "</thead>\n",
       "<tbody>\n",
       "<tr><td style=\"text-align: right;\">     6</td><td style=\"text-align: right;\">   148</td><td style=\"text-align: right;\">   72</td><td style=\"text-align: right;\">    35</td><td style=\"text-align: right;\">      0</td><td style=\"text-align: right;\"> 33.6</td><td style=\"text-align: right;\"> 0.627</td><td style=\"text-align: right;\">   50</td><td style=\"text-align: right;\">      1</td></tr>\n",
       "<tr><td style=\"text-align: right;\">     1</td><td style=\"text-align: right;\">    85</td><td style=\"text-align: right;\">   66</td><td style=\"text-align: right;\">    29</td><td style=\"text-align: right;\">      0</td><td style=\"text-align: right;\"> 26.6</td><td style=\"text-align: right;\"> 0.351</td><td style=\"text-align: right;\">   31</td><td style=\"text-align: right;\">      0</td></tr>\n",
       "<tr><td style=\"text-align: right;\">     8</td><td style=\"text-align: right;\">   183</td><td style=\"text-align: right;\">   64</td><td style=\"text-align: right;\">     0</td><td style=\"text-align: right;\">      0</td><td style=\"text-align: right;\"> 23.3</td><td style=\"text-align: right;\"> 0.672</td><td style=\"text-align: right;\">   32</td><td style=\"text-align: right;\">      1</td></tr>\n",
       "<tr><td style=\"text-align: right;\">     1</td><td style=\"text-align: right;\">    89</td><td style=\"text-align: right;\">   66</td><td style=\"text-align: right;\">    23</td><td style=\"text-align: right;\">     94</td><td style=\"text-align: right;\"> 28.1</td><td style=\"text-align: right;\"> 0.167</td><td style=\"text-align: right;\">   21</td><td style=\"text-align: right;\">      0</td></tr>\n",
       "<tr><td style=\"text-align: right;\">     0</td><td style=\"text-align: right;\">   137</td><td style=\"text-align: right;\">   40</td><td style=\"text-align: right;\">    35</td><td style=\"text-align: right;\">    168</td><td style=\"text-align: right;\"> 43.1</td><td style=\"text-align: right;\"> 2.288</td><td style=\"text-align: right;\">   33</td><td style=\"text-align: right;\">      1</td></tr>\n",
       "<tr><td style=\"text-align: right;\">     5</td><td style=\"text-align: right;\">   116</td><td style=\"text-align: right;\">   74</td><td style=\"text-align: right;\">     0</td><td style=\"text-align: right;\">      0</td><td style=\"text-align: right;\"> 25.6</td><td style=\"text-align: right;\"> 0.201</td><td style=\"text-align: right;\">   30</td><td style=\"text-align: right;\">      0</td></tr>\n",
       "<tr><td style=\"text-align: right;\">     3</td><td style=\"text-align: right;\">    78</td><td style=\"text-align: right;\">   50</td><td style=\"text-align: right;\">    32</td><td style=\"text-align: right;\">     88</td><td style=\"text-align: right;\"> 31  </td><td style=\"text-align: right;\"> 0.248</td><td style=\"text-align: right;\">   26</td><td style=\"text-align: right;\">      1</td></tr>\n",
       "<tr><td style=\"text-align: right;\">    10</td><td style=\"text-align: right;\">   115</td><td style=\"text-align: right;\">    0</td><td style=\"text-align: right;\">     0</td><td style=\"text-align: right;\">      0</td><td style=\"text-align: right;\"> 35.3</td><td style=\"text-align: right;\"> 0.134</td><td style=\"text-align: right;\">   29</td><td style=\"text-align: right;\">      0</td></tr>\n",
       "<tr><td style=\"text-align: right;\">     2</td><td style=\"text-align: right;\">   197</td><td style=\"text-align: right;\">   70</td><td style=\"text-align: right;\">    45</td><td style=\"text-align: right;\">    543</td><td style=\"text-align: right;\"> 30.5</td><td style=\"text-align: right;\"> 0.158</td><td style=\"text-align: right;\">   53</td><td style=\"text-align: right;\">      1</td></tr>\n",
       "<tr><td style=\"text-align: right;\">     8</td><td style=\"text-align: right;\">   125</td><td style=\"text-align: right;\">   96</td><td style=\"text-align: right;\">     0</td><td style=\"text-align: right;\">      0</td><td style=\"text-align: right;\">  0  </td><td style=\"text-align: right;\"> 0.232</td><td style=\"text-align: right;\">   54</td><td style=\"text-align: right;\">      1</td></tr>\n",
       "</tbody>\n",
       "</table>"
      ]
     },
     "metadata": {},
     "output_type": "display_data"
    },
    {
     "name": "stdout",
     "output_type": "stream",
     "text": [
      "\n",
      "Rows:768\n",
      "Cols:9\n",
      "\n",
      "\n"
     ]
    },
    {
     "data": {
      "text/html": [
       "<table>\n",
       "<thead>\n",
       "<tr><th>       </th><th>preg             </th><th>gluc              </th><th>dbp               </th><th>skin              </th><th>insul             </th><th>bmi              </th><th>pedi              </th><th>age               </th><th>class              </th></tr>\n",
       "</thead>\n",
       "<tbody>\n",
       "<tr><td>type   </td><td>int              </td><td>int               </td><td>int               </td><td>int               </td><td>int               </td><td>real             </td><td>real              </td><td>int               </td><td>int                </td></tr>\n",
       "<tr><td>mins   </td><td>0.0              </td><td>0.0               </td><td>0.0               </td><td>0.0               </td><td>0.0               </td><td>0.0              </td><td>0.078             </td><td>21.0              </td><td>0.0                </td></tr>\n",
       "<tr><td>mean   </td><td>3.845052083333336</td><td>120.89453125      </td><td>69.10546874999994 </td><td>20.536458333333357</td><td>79.79947916666666 </td><td>31.99257812500003</td><td>0.4718763020833334</td><td>33.240885416666615</td><td>0.3489583333333333 </td></tr>\n",
       "<tr><td>maxs   </td><td>17.0             </td><td>199.0             </td><td>122.0             </td><td>99.0              </td><td>846.0             </td><td>67.1             </td><td>2.42              </td><td>81.0              </td><td>1.0                </td></tr>\n",
       "<tr><td>sigma  </td><td>3.36957806269887 </td><td>31.972618195136224</td><td>19.355807170644777</td><td>15.952217567727642</td><td>115.24400235133803</td><td>7.884160320375441</td><td>0.331328595012775 </td><td>11.760231540678689</td><td>0.47695137724279896</td></tr>\n",
       "<tr><td>zeros  </td><td>111              </td><td>5                 </td><td>35                </td><td>227               </td><td>374               </td><td>11               </td><td>0                 </td><td>0                 </td><td>500                </td></tr>\n",
       "<tr><td>missing</td><td>0                </td><td>0                 </td><td>0                 </td><td>0                 </td><td>0                 </td><td>0                </td><td>0                 </td><td>0                 </td><td>0                  </td></tr>\n",
       "<tr><td>0      </td><td>6.0              </td><td>148.0             </td><td>72.0              </td><td>35.0              </td><td>0.0               </td><td>33.6             </td><td>0.627             </td><td>50.0              </td><td>1.0                </td></tr>\n",
       "<tr><td>1      </td><td>1.0              </td><td>85.0              </td><td>66.0              </td><td>29.0              </td><td>0.0               </td><td>26.6             </td><td>0.351             </td><td>31.0              </td><td>0.0                </td></tr>\n",
       "<tr><td>2      </td><td>8.0              </td><td>183.0             </td><td>64.0              </td><td>0.0               </td><td>0.0               </td><td>23.3             </td><td>0.672             </td><td>32.0              </td><td>1.0                </td></tr>\n",
       "<tr><td>3      </td><td>1.0              </td><td>89.0              </td><td>66.0              </td><td>23.0              </td><td>94.0              </td><td>28.1             </td><td>0.167             </td><td>21.0              </td><td>0.0                </td></tr>\n",
       "<tr><td>4      </td><td>0.0              </td><td>137.0             </td><td>40.0              </td><td>35.0              </td><td>168.0             </td><td>43.1             </td><td>2.288             </td><td>33.0              </td><td>1.0                </td></tr>\n",
       "<tr><td>5      </td><td>5.0              </td><td>116.0             </td><td>74.0              </td><td>0.0               </td><td>0.0               </td><td>25.6             </td><td>0.201             </td><td>30.0              </td><td>0.0                </td></tr>\n",
       "<tr><td>6      </td><td>3.0              </td><td>78.0              </td><td>50.0              </td><td>32.0              </td><td>88.0              </td><td>31.0             </td><td>0.248             </td><td>26.0              </td><td>1.0                </td></tr>\n",
       "<tr><td>7      </td><td>10.0             </td><td>115.0             </td><td>0.0               </td><td>0.0               </td><td>0.0               </td><td>35.3             </td><td>0.134             </td><td>29.0              </td><td>0.0                </td></tr>\n",
       "<tr><td>8      </td><td>2.0              </td><td>197.0             </td><td>70.0              </td><td>45.0              </td><td>543.0             </td><td>30.5             </td><td>0.158             </td><td>53.0              </td><td>1.0                </td></tr>\n",
       "<tr><td>9      </td><td>8.0              </td><td>125.0             </td><td>96.0              </td><td>0.0               </td><td>0.0               </td><td>0.0              </td><td>0.232             </td><td>54.0              </td><td>1.0                </td></tr>\n",
       "</tbody>\n",
       "</table>"
      ]
     },
     "metadata": {},
     "output_type": "display_data"
    },
    {
     "name": "stdout",
     "output_type": "stream",
     "text": [
      "None\n"
     ]
    }
   ],
   "source": [
    "# Test h2o\n",
    "%matplotlib inline\n",
    "import h2o\n",
    "#from h2o.frame import H2OFrame\n",
    "from h2o.estimators.random_forest import H2ORandomForestEstimator\n",
    "from h2o.estimators.gbm import H2OGradientBoostingEstimator\n",
    "\n",
    "# initialize h2o\n",
    "h2o.init()\n",
    "\n",
    "import pandas as pd\n",
    "import numpy as np\n",
    "import matplotlib.pyplot as plt\n",
    "%matplotlib inline\n",
    "import seaborn as sns\n",
    "\n",
    "names = ['preg', 'gluc', 'dbp', 'skin', 'insul', 'bmi', 'pedi', 'age', 'class']\n",
    "#diabetes = h2o.import_file('pima-indians-diabetes.csv', col_names = names)\n",
    "diabetes = h2o.import_file(path='https://raw.githubusercontent.com/cxd/au.id.cxd.Math/master/data/test-pima-diabetes/raw-pima-indians-diabetes.csv', col_names = names)\n",
    "\n",
    "print(diabetes.columns)\n",
    "print(diabetes.head())\n",
    "print(diabetes.describe())"
   ]
  },
  {
   "cell_type": "markdown",
   "metadata": {},
   "source": [
    "## ML & DL Algorithm Review"
   ]
  },
  {
   "cell_type": "code",
   "execution_count": 4,
   "metadata": {
    "scrolled": false
   },
   "outputs": [
    {
     "name": "stdout",
     "output_type": "stream",
     "text": [
      "glm Model Build progress: |███████████████████████████████████████████████| 100%\n",
      "drf Model Build progress: |███████████████████████████████████████████████| 100%\n",
      "gbm Model Build progress: |███████████████████████████████████████████████| 100%\n",
      "deeplearning Model Build progress: |██████████████████████████████████████| 100%\n"
     ]
    },
    {
     "data": {
      "text/html": [
       "<div style=\"overflow:auto\"><table style=\"width:50%\"><tr><td><b>Model</b></td>\n",
       "<td><b>Training AUC</b></td>\n",
       "<td><b>Validation AUC</b></td></tr>\n",
       "<tr><td>GLM</td>\n",
       "<td>0.8452474</td>\n",
       "<td>0.8062954</td></tr>\n",
       "<tr><td>DRF</td>\n",
       "<td>0.8057321</td>\n",
       "<td>0.8304220</td></tr>\n",
       "<tr><td>GBM</td>\n",
       "<td>0.9827656</td>\n",
       "<td>0.8265306</td></tr>\n",
       "<tr><td>DL</td>\n",
       "<td>0.8761991</td>\n",
       "<td>0.8090626</td></tr></table></div>"
      ],
      "text/plain": [
       "Model      Training AUC    Validation AUC\n",
       "-------  --------------  ----------------\n",
       "GLM            0.845247          0.806295\n",
       "DRF            0.805732          0.830422\n",
       "GBM            0.982766          0.826531\n",
       "DL             0.876199          0.809063"
      ]
     },
     "metadata": {},
     "output_type": "display_data"
    },
    {
     "data": {
      "text/html": [
       "<div style=\"overflow:auto\"><table style=\"width:50%\"><tr><td><b>Model</b></td>\n",
       "<td><b>Training AUC</b></td>\n",
       "<td><b>Validation AUC</b></td></tr>\n",
       "<tr><td>GLM</td>\n",
       "<td>0.8452474</td>\n",
       "<td>0.8062954</td></tr>\n",
       "<tr><td>DRF</td>\n",
       "<td>0.8057321</td>\n",
       "<td>0.8304220</td></tr>\n",
       "<tr><td>GBM</td>\n",
       "<td>0.9827656</td>\n",
       "<td>0.8265306</td></tr>\n",
       "<tr><td>DL</td>\n",
       "<td>0.8761991</td>\n",
       "<td>0.8090626</td></tr></table></div>"
      ],
      "text/plain": []
     },
     "execution_count": 4,
     "metadata": {},
     "output_type": "execute_result"
    }
   ],
   "source": [
    "# data prep for model\n",
    "\n",
    "# create training and test datasets for model validation\n",
    "train, valid = diabetes.split_frame(ratios = [.8], seed = 4321)\n",
    "\n",
    "# Identify predictors and response\n",
    "inputs = train.columns\n",
    "output = \"class\"\n",
    "inputs.remove(output)\n",
    "\n",
    "# For binary classification, response should be a factor\n",
    "train[output] = train[output].asfactor()\n",
    "valid[output] = valid[output].asfactor()\n",
    "\n",
    "# baseline models\n",
    "\n",
    "# glm\n",
    "from h2o.estimators import H2OGeneralizedLinearEstimator\n",
    "diabetes_glm = H2OGeneralizedLinearEstimator(family = \"binomial\", model_id = \"glm_default.hex\", seed = 4321)\n",
    "diabetes_glm.train(x = inputs, y = output, training_frame = train, validation_frame = valid)\n",
    "\n",
    "# H2ORandomForestEstimator\n",
    "from h2o.estimators.random_forest import H2ORandomForestEstimator\n",
    "diabetes_RF = H2ORandomForestEstimator(seed = 7654321) # nbins_cats = num, seed = 4321)\n",
    "diabetes_RF.train(x = inputs, y = output, training_frame = train, validation_frame = valid)\n",
    "    \n",
    "# H2OGradientBoostingEstimator\n",
    "from h2o.estimators.gbm import H2OGradientBoostingEstimator\n",
    "diabetes_gbm = H2OGradientBoostingEstimator(seed = 7654321) # nbins_cats = num, seed = 4321)\n",
    "diabetes_gbm.train(x = inputs, y = output, training_frame = train, validation_frame = valid)\n",
    "    \n",
    "# DL\n",
    "from h2o.estimators import H2ODeepLearningEstimator\n",
    "diabetes_dl = H2ODeepLearningEstimator(model_id = \"dl_default.hex\", seed = 4321)\n",
    "diabetes_dl.train(x = inputs, y = output, training_frame = train, validation_frame = valid)\n",
    "    \n",
    "# model comparison table\n",
    "header = [\"Model\", \"Training AUC\", \"Validation AUC\"]\n",
    "table = [\n",
    "    [\"GLM\", diabetes_glm.auc(train = True), diabetes_glm.auc(valid = True)],\n",
    "    [\"DRF\", diabetes_RF.auc(train = True), diabetes_RF.auc(valid = True)],\n",
    "    [\"GBM\", diabetes_gbm.auc(train = True), diabetes_gbm.auc(valid = True)],\n",
    "    [\"DL\", diabetes_dl.auc(train = True), diabetes_dl.auc(valid = True)]\n",
    "]\n",
    "h2o.display.H2ODisplay(table, header)"
   ]
  },
  {
   "cell_type": "markdown",
   "metadata": {},
   "source": [
    "## CV Plot on Number of Trees"
   ]
  },
  {
   "cell_type": "code",
   "execution_count": 5,
   "metadata": {},
   "outputs": [
    {
     "data": {
      "image/png": "[encoded data removed]",
      "text/plain": [
       "<matplotlib.figure.Figure at 0xa1df66b70>"
      ]
     },
     "metadata": {},
     "output_type": "display_data"
    }
   ],
   "source": [
    "diabetes_RF.plot()"
   ]
  },
  {
   "cell_type": "markdown",
   "metadata": {},
   "source": [
    "**Conclusion: overfit and in need of tuning - memorized the validation data**"
   ]
  },
  {
   "cell_type": "code",
   "execution_count": 6,
   "metadata": {},
   "outputs": [
    {
     "data": {
      "image/png": "[encoded data removed]",
      "text/plain": [
       "<matplotlib.figure.Figure at 0xa1df66828>"
      ]
     },
     "metadata": {},
     "output_type": "display_data"
    }
   ],
   "source": [
    "diabetes_gbm.plot()"
   ]
  },
  {
   "cell_type": "markdown",
   "metadata": {},
   "source": [
    "**Conclusion: high variance and complexity - need to optimize hyper parameters**"
   ]
  },
  {
   "cell_type": "code",
   "execution_count": 7,
   "metadata": {},
   "outputs": [
    {
     "data": {
      "image/png": "[encoded data removed]",
      "text/plain": [
       "<matplotlib.figure.Figure at 0xa29a10240>"
      ]
     },
     "metadata": {},
     "output_type": "display_data"
    }
   ],
   "source": [
    "diabetes_dl.plot()"
   ]
  },
  {
   "cell_type": "markdown",
   "metadata": {},
   "source": [
    "**Conclusion: underfit - prediction error on validation data drops slowly but clearly we can do better with tuning and additional training**"
   ]
  },
  {
   "cell_type": "markdown",
   "metadata": {},
   "source": [
    "## Feature Importance\n",
    "***\n",
    "In machine learning, feature importance is used to understand the relative performace of an input. A simple explanation of how feature importance is determined in machine learning is **to examine the change in out of sample predictive accuracy when each one of the inputs is changed.**"
   ]
  },
  {
   "cell_type": "code",
   "execution_count": 8,
   "metadata": {},
   "outputs": [
    {
     "data": {
      "image/png": "[encoded data removed]",
      "text/plain": [
       "<matplotlib.figure.Figure at 0xa29aed9b0>"
      ]
     },
     "metadata": {},
     "output_type": "display_data"
    }
   ],
   "source": [
    "diabetes_RF.varimp_plot()"
   ]
  },
  {
   "cell_type": "markdown",
   "metadata": {},
   "source": [
    "**Conclusion: importance of inputs aligned with medical knowledge in diabetes**"
   ]
  },
  {
   "cell_type": "code",
   "execution_count": 9,
   "metadata": {},
   "outputs": [
    {
     "data": {
      "image/png": "[encoded data removed]",
      "text/plain": [
       "<matplotlib.figure.Figure at 0xa29aedac8>"
      ]
     },
     "metadata": {},
     "output_type": "display_data"
    }
   ],
   "source": [
    "diabetes_gbm.varimp_plot()"
   ]
  },
  {
   "cell_type": "markdown",
   "metadata": {},
   "source": [
    "**Ditto above comment**"
   ]
  },
  {
   "cell_type": "code",
   "execution_count": 10,
   "metadata": {},
   "outputs": [
    {
     "data": {
      "image/png": "[encoded data removed]",
      "text/plain": [
       "<matplotlib.figure.Figure at 0xa298cfc88>"
      ]
     },
     "metadata": {},
     "output_type": "display_data"
    }
   ],
   "source": [
    "diabetes_dl.varimp_plot()"
   ]
  },
  {
   "cell_type": "markdown",
   "metadata": {},
   "source": [
    "**Conclusion: relatively flat importances - may need additional training and tuning** "
   ]
  },
  {
   "cell_type": "markdown",
   "metadata": {},
   "source": [
    "## Partial Dependence Plots\n",
    "***\n",
    "Partial dependence plots (PDP) can be used to aid interpretability. PDPs plot the predicted response of a ML algorithm over the domain of an input while holding other inputs constant at their mean values."
   ]
  },
  {
   "cell_type": "code",
   "execution_count": 11,
   "metadata": {
    "scrolled": false
   },
   "outputs": [
    {
     "name": "stdout",
     "output_type": "stream",
     "text": [
      "PartialDependencePlot progress: |█████████████████████████████████████████| 100%\n",
      "PartialDependence: Partial Dependence Plot of model GBM_model_python_1528370006124_105 on column 'gluc'\n",
      "\n"
     ]
    },
    {
     "data": {
      "text/html": [
       "<div style=\"overflow:auto\"><table style=\"width:50%\"><tr><td><b>gluc</b></td>\n",
       "<td><b>mean_response</b></td>\n",
       "<td><b>stddev_response</b></td></tr>\n",
       "<tr><td>0.0</td>\n",
       "<td>0.1584099</td>\n",
       "<td>0.1847173</td></tr>\n",
       "<tr><td>1.4316547</td>\n",
       "<td>0.1584099</td>\n",
       "<td>0.1847173</td></tr>\n",
       "<tr><td>2.8633094</td>\n",
       "<td>0.1584099</td>\n",
       "<td>0.1847173</td></tr>\n",
       "<tr><td>4.2949640</td>\n",
       "<td>0.1584099</td>\n",
       "<td>0.1847173</td></tr>\n",
       "<tr><td>5.7266187</td>\n",
       "<td>0.1584099</td>\n",
       "<td>0.1847173</td></tr>\n",
       "<tr><td>---</td>\n",
       "<td>---</td>\n",
       "<td>---</td></tr>\n",
       "<tr><td>193.2733813</td>\n",
       "<td>0.8613027</td>\n",
       "<td>0.1127243</td></tr>\n",
       "<tr><td>194.7050360</td>\n",
       "<td>0.8613027</td>\n",
       "<td>0.1127243</td></tr>\n",
       "<tr><td>196.1366906</td>\n",
       "<td>0.8613027</td>\n",
       "<td>0.1127243</td></tr>\n",
       "<tr><td>197.5683453</td>\n",
       "<td>0.8613027</td>\n",
       "<td>0.1127243</td></tr>\n",
       "<tr><td>199.0</td>\n",
       "<td>0.8613027</td>\n",
       "<td>0.1127243</td></tr></table></div>"
      ],
      "text/plain": [
       "gluc                mean_response       stddev_response\n",
       "------------------  ------------------  -------------------\n",
       "0.0                 0.1584098556779084  0.18471733800053247\n",
       "1.4316546762589928  0.1584098556779084  0.18471733800053247\n",
       "2.8633093525179856  0.1584098556779084  0.18471733800053247\n",
       "4.294964028776978   0.1584098556779084  0.18471733800053247\n",
       "5.726618705035971   0.1584098556779084  0.18471733800053247\n",
       "---                 ---                 ---\n",
       "193.27338129496403  0.8613027229029969  0.11272429077914219\n",
       "194.70503597122303  0.8613027229029969  0.11272429077914219\n",
       "196.136690647482    0.8613027229029969  0.11272429077914219\n",
       "197.568345323741    0.8613027229029969  0.11272429077914219\n",
       "199.0               0.8613027229029969  0.11272429077914219"
      ]
     },
     "metadata": {},
     "output_type": "display_data"
    },
    {
     "name": "stdout",
     "output_type": "stream",
     "text": [
      "\n",
      "See the whole table with table.as_data_frame()\n"
     ]
    },
    {
     "data": {
      "text/plain": [
       "[]"
      ]
     },
     "execution_count": 11,
     "metadata": {},
     "output_type": "execute_result"
    },
    {
     "data": {
      "image/png": "[encoded data removed]",
      "text/plain": [
       "<matplotlib.figure.Figure at 0xa2982af60>"
      ]
     },
     "metadata": {},
     "output_type": "display_data"
    }
   ],
   "source": [
    "# Partial Dependence Plot for GBM\n",
    "%matplotlib inline\n",
    "diabetes_gbm.partial_plot(train, cols = ['gluc'], nbins = 140, plot = True, plot_stddev = True)"
   ]
  },
  {
   "cell_type": "markdown",
   "metadata": {},
   "source": [
    "**Conclusion: The risk of diabetes increases exponentially when 2 hr. blood glucose levels cross the 150 ml/dl threshold**"
   ]
  },
  {
   "cell_type": "code",
   "execution_count": 12,
   "metadata": {
    "scrolled": false
   },
   "outputs": [
    {
     "name": "stdout",
     "output_type": "stream",
     "text": [
      "PartialDependencePlot progress: |█████████████████████████████████████████| 100%\n",
      "PartialDependence: Partial Dependence Plot of model GBM_model_python_1528370006124_105 on column 'insul'\n",
      "\n"
     ]
    },
    {
     "data": {
      "text/html": [
       "<div style=\"overflow:auto\"><table style=\"width:50%\"><tr><td><b>insul</b></td>\n",
       "<td><b>mean_response</b></td>\n",
       "<td><b>stddev_response</b></td></tr>\n",
       "<tr><td>0.0</td>\n",
       "<td>0.3430280</td>\n",
       "<td>0.3147893</td></tr>\n",
       "<tr><td>4.4761905</td>\n",
       "<td>0.3430280</td>\n",
       "<td>0.3147893</td></tr>\n",
       "<tr><td>8.9523810</td>\n",
       "<td>0.3430280</td>\n",
       "<td>0.3147893</td></tr>\n",
       "<tr><td>13.4285714</td>\n",
       "<td>0.3374089</td>\n",
       "<td>0.3143379</td></tr>\n",
       "<tr><td>17.9047619</td>\n",
       "<td>0.3373789</td>\n",
       "<td>0.3142884</td></tr>\n",
       "<tr><td>---</td>\n",
       "<td>---</td>\n",
       "<td>---</td></tr>\n",
       "<tr><td>828.0952381</td>\n",
       "<td>0.3663897</td>\n",
       "<td>0.3226951</td></tr>\n",
       "<tr><td>832.5714286</td>\n",
       "<td>0.3663897</td>\n",
       "<td>0.3226951</td></tr>\n",
       "<tr><td>837.0476190</td>\n",
       "<td>0.3663897</td>\n",
       "<td>0.3226951</td></tr>\n",
       "<tr><td>841.5238095</td>\n",
       "<td>0.3663897</td>\n",
       "<td>0.3226951</td></tr>\n",
       "<tr><td>846.0</td>\n",
       "<td>0.3663897</td>\n",
       "<td>0.3226951</td></tr></table></div>"
      ],
      "text/plain": [
       "insul               mean_response        stddev_response\n",
       "------------------  -------------------  -------------------\n",
       "0.0                 0.34302801716466236  0.3147892926480709\n",
       "4.476190476190476   0.34302801716466236  0.3147892926480709\n",
       "8.952380952380953   0.34302801716466236  0.3147892926480709\n",
       "13.428571428571429  0.33740890554044817  0.31433786889477633\n",
       "17.904761904761905  0.33737886949796536  0.3142883736068418\n",
       "---                 ---                  ---\n",
       "828.0952380952381   0.36638970554096434  0.3226950750618281\n",
       "832.5714285714286   0.36638970554096434  0.3226950750618281\n",
       "837.047619047619    0.36638970554096434  0.3226950750618281\n",
       "841.5238095238095   0.36638970554096434  0.3226950750618281\n",
       "846.0               0.36638970554096434  0.3226950750618281"
      ]
     },
     "metadata": {},
     "output_type": "display_data"
    },
    {
     "name": "stdout",
     "output_type": "stream",
     "text": [
      "\n",
      "See the whole table with table.as_data_frame()\n"
     ]
    },
    {
     "data": {
      "text/plain": [
       "[]"
      ]
     },
     "execution_count": 12,
     "metadata": {},
     "output_type": "execute_result"
    },
    {
     "data": {
      "image/png": "[encoded data removed]",
      "text/plain": [
       "<matplotlib.figure.Figure at 0xa1df3a898>"
      ]
     },
     "metadata": {},
     "output_type": "display_data"
    }
   ],
   "source": [
    "# Partial Dependence Plot for GBM\n",
    "%matplotlib inline\n",
    "diabetes_gbm.partial_plot(train, cols = ['insul'], nbins = 190, plot = True, plot_stddev = True)"
   ]
  },
  {
   "cell_type": "markdown",
   "metadata": {},
   "source": [
    "**Conclusion: Diabetes risk rises sharply when 2 hr. blood insulin levels are in the range of 120 to 160 mu U/ml** \n",
    "\n",
    "* Note: 50% of the values are missing and coded to 0. See my [post](https://briangriner.github.io/decoding_health-risk-factors-pre-diabetes-ML-3.5.18.html) for review of imputation methods and resulting conclusions on the importance of 2 hr. serum insulin testing."
   ]
  },
  {
   "cell_type": "code",
   "execution_count": 13,
   "metadata": {
    "scrolled": false
   },
   "outputs": [
    {
     "name": "stdout",
     "output_type": "stream",
     "text": [
      "PartialDependencePlot progress: |█████████████████████████████████████████| 100%\n",
      "PartialDependence: Partial Dependence Plot of model GBM_model_python_1528370006124_105 on column 'dbp'\n",
      "\n"
     ]
    },
    {
     "data": {
      "text/html": [
       "<div style=\"overflow:auto\"><table style=\"width:50%\"><tr><td><b>dbp</b></td>\n",
       "<td><b>mean_response</b></td>\n",
       "<td><b>stddev_response</b></td></tr>\n",
       "<tr><td>0.0</td>\n",
       "<td>0.4103964</td>\n",
       "<td>0.3472556</td></tr>\n",
       "<tr><td>2.4897959</td>\n",
       "<td>0.4103964</td>\n",
       "<td>0.3472556</td></tr>\n",
       "<tr><td>4.9795918</td>\n",
       "<td>0.4103964</td>\n",
       "<td>0.3472556</td></tr>\n",
       "<tr><td>7.4693878</td>\n",
       "<td>0.4103964</td>\n",
       "<td>0.3472556</td></tr>\n",
       "<tr><td>9.9591837</td>\n",
       "<td>0.4103964</td>\n",
       "<td>0.3472556</td></tr>\n",
       "<tr><td>---</td>\n",
       "<td>---</td>\n",
       "<td>---</td></tr>\n",
       "<tr><td>112.0408163</td>\n",
       "<td>0.3282403</td>\n",
       "<td>0.3171471</td></tr>\n",
       "<tr><td>114.5306122</td>\n",
       "<td>0.3282403</td>\n",
       "<td>0.3171471</td></tr>\n",
       "<tr><td>117.0204082</td>\n",
       "<td>0.3282403</td>\n",
       "<td>0.3171471</td></tr>\n",
       "<tr><td>119.5102041</td>\n",
       "<td>0.3282403</td>\n",
       "<td>0.3171471</td></tr>\n",
       "<tr><td>122.0</td>\n",
       "<td>0.3282403</td>\n",
       "<td>0.3171471</td></tr></table></div>"
      ],
      "text/plain": [
       "dbp                 mean_response        stddev_response\n",
       "------------------  -------------------  -------------------\n",
       "0.0                 0.4103964427140259   0.34725559984695487\n",
       "2.489795918367347   0.4103964427140259   0.34725559984695487\n",
       "4.979591836734694   0.4103964427140259   0.34725559984695487\n",
       "7.469387755102041   0.4103964427140259   0.34725559984695487\n",
       "9.959183673469388   0.4103964427140259   0.34725559984695487\n",
       "---                 ---                  ---\n",
       "112.04081632653062  0.32824027481530477  0.31714706786169383\n",
       "114.53061224489797  0.32824027481530477  0.31714706786169383\n",
       "117.02040816326532  0.32824027481530477  0.31714706786169383\n",
       "119.51020408163265  0.32824027481530477  0.31714706786169383\n",
       "122.0               0.32824027481530477  0.31714706786169383"
      ]
     },
     "metadata": {},
     "output_type": "display_data"
    },
    {
     "name": "stdout",
     "output_type": "stream",
     "text": [
      "\n",
      "See the whole table with table.as_data_frame()\n"
     ]
    },
    {
     "data": {
      "text/plain": [
       "[]"
      ]
     },
     "execution_count": 13,
     "metadata": {},
     "output_type": "execute_result"
    },
    {
     "data": {
      "image/png": "[encoded data removed]",
      "text/plain": [
       "<matplotlib.figure.Figure at 0xa2a2bf978>"
      ]
     },
     "metadata": {},
     "output_type": "display_data"
    }
   ],
   "source": [
    "# Partial Dependence Plot for GBM\n",
    "%matplotlib inline\n",
    "diabetes_gbm.partial_plot(train, cols = ['dbp'], nbins = 50, plot = True, plot_stddev = True)"
   ]
  },
  {
   "cell_type": "markdown",
   "metadata": {},
   "source": [
    "**Conclusion: Diabetes risk drops when low bp enters the range of normal and starts to rise as it exits the normal range.**"
   ]
  },
  {
   "cell_type": "code",
   "execution_count": 14,
   "metadata": {
    "scrolled": false
   },
   "outputs": [
    {
     "name": "stdout",
     "output_type": "stream",
     "text": [
      "PartialDependencePlot progress: |█████████████████████████████████████████| 100%\n",
      "PartialDependence: Partial Dependence Plot of model GBM_model_python_1528370006124_105 on column 'skin'\n",
      "\n"
     ]
    },
    {
     "data": {
      "text/html": [
       "<div style=\"overflow:auto\"><table style=\"width:50%\"><tr><td><b>skin</b></td>\n",
       "<td><b>mean_response</b></td>\n",
       "<td><b>stddev_response</b></td></tr>\n",
       "<tr><td>0.0</td>\n",
       "<td>0.3526128</td>\n",
       "<td>0.3229108</td></tr>\n",
       "<tr><td>1.6779661</td>\n",
       "<td>0.3526128</td>\n",
       "<td>0.3229108</td></tr>\n",
       "<tr><td>3.3559322</td>\n",
       "<td>0.3526128</td>\n",
       "<td>0.3229108</td></tr>\n",
       "<tr><td>5.0338983</td>\n",
       "<td>0.3526128</td>\n",
       "<td>0.3229108</td></tr>\n",
       "<tr><td>6.7118644</td>\n",
       "<td>0.3418733</td>\n",
       "<td>0.3207873</td></tr>\n",
       "<tr><td>---</td>\n",
       "<td>---</td>\n",
       "<td>---</td></tr>\n",
       "<tr><td>92.2881356</td>\n",
       "<td>0.3110970</td>\n",
       "<td>0.3104845</td></tr>\n",
       "<tr><td>93.9661017</td>\n",
       "<td>0.3110970</td>\n",
       "<td>0.3104845</td></tr>\n",
       "<tr><td>95.6440678</td>\n",
       "<td>0.3110970</td>\n",
       "<td>0.3104845</td></tr>\n",
       "<tr><td>97.3220339</td>\n",
       "<td>0.3110970</td>\n",
       "<td>0.3104845</td></tr>\n",
       "<tr><td>99.0</td>\n",
       "<td>0.3110970</td>\n",
       "<td>0.3104845</td></tr></table></div>"
      ],
      "text/plain": [
       "skin                mean_response        stddev_response\n",
       "------------------  -------------------  ------------------\n",
       "0.0                 0.3526128287754918   0.322910800695555\n",
       "1.6779661016949152  0.3526128287754918   0.322910800695555\n",
       "3.3559322033898304  0.3526128287754918   0.322910800695555\n",
       "5.033898305084746   0.3526128287754918   0.322910800695555\n",
       "6.711864406779661   0.34187332216751487  0.3207872674970148\n",
       "---                 ---                  ---\n",
       "92.28813559322033   0.31109697290826566  0.3104844653270644\n",
       "93.96610169491525   0.31109697290826566  0.3104844653270644\n",
       "95.64406779661017   0.31109697290826566  0.3104844653270644\n",
       "97.32203389830508   0.31109697290826566  0.3104844653270644\n",
       "99.0                0.31109697290826566  0.3104844653270644"
      ]
     },
     "metadata": {},
     "output_type": "display_data"
    },
    {
     "name": "stdout",
     "output_type": "stream",
     "text": [
      "\n",
      "See the whole table with table.as_data_frame()\n"
     ]
    },
    {
     "data": {
      "text/plain": [
       "[]"
      ]
     },
     "execution_count": 14,
     "metadata": {},
     "output_type": "execute_result"
    },
    {
     "data": {
      "image/png": "[encoded data removed]",
      "text/plain": [
       "<matplotlib.figure.Figure at 0xa1de894e0>"
      ]
     },
     "metadata": {},
     "output_type": "display_data"
    }
   ],
   "source": [
    "# Partial Dependence Plot for GBM\n",
    "%matplotlib inline\n",
    "diabetes_gbm.partial_plot(train, cols = ['skin'], nbins = 60, plot = True, plot_stddev = True)"
   ]
  },
  {
   "cell_type": "markdown",
   "metadata": {},
   "source": [
    "**Conclusion: See my [post](https://briangriner.github.io/decoding_health-risk-factors-pre-diabetes-ML-3.5.18.html) for an indepth review of the importance of triceps skin fold thickness when combined with serum insulin levels and dyastolic blood pressure levels.**"
   ]
  },
  {
   "cell_type": "code",
   "execution_count": 15,
   "metadata": {
    "scrolled": false
   },
   "outputs": [
    {
     "name": "stdout",
     "output_type": "stream",
     "text": [
      "PartialDependencePlot progress: |█████████████████████████████████████████| 100%\n",
      "PartialDependence: Partial Dependence Plot of model GBM_model_python_1528370006124_105 on column 'preg'\n",
      "\n"
     ]
    },
    {
     "data": {
      "text/html": [
       "<div style=\"overflow:auto\"><table style=\"width:50%\"><tr><td><b>preg</b></td>\n",
       "<td><b>mean_response</b></td>\n",
       "<td><b>stddev_response</b></td></tr>\n",
       "<tr><td>0.0</td>\n",
       "<td>0.3075012</td>\n",
       "<td>0.2971872</td></tr>\n",
       "<tr><td>1.0</td>\n",
       "<td>0.3052249</td>\n",
       "<td>0.2973298</td></tr>\n",
       "<tr><td>2.0</td>\n",
       "<td>0.3157718</td>\n",
       "<td>0.2967991</td></tr>\n",
       "<tr><td>3.0</td>\n",
       "<td>0.3260868</td>\n",
       "<td>0.2966535</td></tr>\n",
       "<tr><td>4.0</td>\n",
       "<td>0.3246325</td>\n",
       "<td>0.2971084</td></tr>\n",
       "<tr><td>5.0</td>\n",
       "<td>0.3240601</td>\n",
       "<td>0.2975042</td></tr>\n",
       "<tr><td>6.0</td>\n",
       "<td>0.3330344</td>\n",
       "<td>0.2973531</td></tr>\n",
       "<tr><td>7.0</td>\n",
       "<td>0.3921093</td>\n",
       "<td>0.2978758</td></tr>\n",
       "<tr><td>8.0</td>\n",
       "<td>0.4525196</td>\n",
       "<td>0.3188683</td></tr>\n",
       "<tr><td>9.0</td>\n",
       "<td>0.4637535</td>\n",
       "<td>0.3149738</td></tr>\n",
       "<tr><td>10.0</td>\n",
       "<td>0.4571313</td>\n",
       "<td>0.3155333</td></tr>\n",
       "<tr><td>11.0</td>\n",
       "<td>0.4571313</td>\n",
       "<td>0.3155333</td></tr>\n",
       "<tr><td>12.0</td>\n",
       "<td>0.4724047</td>\n",
       "<td>0.3141446</td></tr>\n",
       "<tr><td>13.0</td>\n",
       "<td>0.5114633</td>\n",
       "<td>0.3113349</td></tr>\n",
       "<tr><td>14.0</td>\n",
       "<td>0.5114633</td>\n",
       "<td>0.3113349</td></tr>\n",
       "<tr><td>15.0</td>\n",
       "<td>0.5114633</td>\n",
       "<td>0.3113349</td></tr>\n",
       "<tr><td>16.0</td>\n",
       "<td>0.5114633</td>\n",
       "<td>0.3113349</td></tr>\n",
       "<tr><td>17.0</td>\n",
       "<td>0.5114633</td>\n",
       "<td>0.3113349</td></tr></table></div>"
      ],
      "text/plain": [
       "preg    mean_response    stddev_response\n",
       "------  ---------------  -----------------\n",
       "0       0.307501         0.297187\n",
       "1       0.305225         0.29733\n",
       "2       0.315772         0.296799\n",
       "3       0.326087         0.296654\n",
       "4       0.324633         0.297108\n",
       "5       0.32406          0.297504\n",
       "6       0.333034         0.297353\n",
       "7       0.392109         0.297876\n",
       "8       0.45252          0.318868\n",
       "9       0.463754         0.314974\n",
       "10      0.457131         0.315533\n",
       "11      0.457131         0.315533\n",
       "12      0.472405         0.314145\n",
       "13      0.511463         0.311335\n",
       "14      0.511463         0.311335\n",
       "15      0.511463         0.311335\n",
       "16      0.511463         0.311335\n",
       "17      0.511463         0.311335"
      ]
     },
     "metadata": {},
     "output_type": "display_data"
    },
    {
     "data": {
      "text/plain": [
       "[]"
      ]
     },
     "execution_count": 15,
     "metadata": {},
     "output_type": "execute_result"
    },
    {
     "data": {
      "image/png": "[encoded data removed]",
      "text/plain": [
       "<matplotlib.figure.Figure at 0xa2a4924a8>"
      ]
     },
     "metadata": {},
     "output_type": "display_data"
    }
   ],
   "source": [
    "# Partial Dependence Plot for GBM\n",
    "%matplotlib inline\n",
    "diabetes_gbm.partial_plot(train, cols = ['preg'], nbins = 20, plot = True, plot_stddev = True)"
   ]
  },
  {
   "cell_type": "markdown",
   "metadata": {},
   "source": [
    "**Conclusion: Diabetes risk increases drastically when the number of pregnancies exceeds 6.**"
   ]
  },
  {
   "cell_type": "code",
   "execution_count": 16,
   "metadata": {
    "scrolled": false
   },
   "outputs": [
    {
     "name": "stdout",
     "output_type": "stream",
     "text": [
      "PartialDependencePlot progress: |█████████████████████████████████████████| 100%\n",
      "PartialDependence: Partial Dependence Plot of model GBM_model_python_1528370006124_105 on column 'bmi'\n",
      "\n"
     ]
    },
    {
     "data": {
      "text/html": [
       "<div style=\"overflow:auto\"><table style=\"width:50%\"><tr><td><b>bmi</b></td>\n",
       "<td><b>mean_response</b></td>\n",
       "<td><b>stddev_response</b></td></tr>\n",
       "<tr><td>0.0</td>\n",
       "<td>0.2201952</td>\n",
       "<td>0.2401670</td></tr>\n",
       "<tr><td>4.7928571</td>\n",
       "<td>0.2201952</td>\n",
       "<td>0.2401670</td></tr>\n",
       "<tr><td>9.5857143</td>\n",
       "<td>0.1831131</td>\n",
       "<td>0.2379369</td></tr>\n",
       "<tr><td>14.3785714</td>\n",
       "<td>0.1831131</td>\n",
       "<td>0.2379369</td></tr>\n",
       "<tr><td>19.1714286</td>\n",
       "<td>0.1831654</td>\n",
       "<td>0.2379217</td></tr>\n",
       "<tr><td>23.9642857</td>\n",
       "<td>0.1756345</td>\n",
       "<td>0.2368818</td></tr>\n",
       "<tr><td>28.7571429</td>\n",
       "<td>0.3044428</td>\n",
       "<td>0.2704005</td></tr>\n",
       "<tr><td>33.55</td>\n",
       "<td>0.3804746</td>\n",
       "<td>0.3058573</td></tr>\n",
       "<tr><td>38.3428571</td>\n",
       "<td>0.4090628</td>\n",
       "<td>0.2939704</td></tr>\n",
       "<tr><td>43.1357143</td>\n",
       "<td>0.4337363</td>\n",
       "<td>0.2914935</td></tr>\n",
       "<tr><td>47.9285714</td>\n",
       "<td>0.5166818</td>\n",
       "<td>0.2320534</td></tr>\n",
       "<tr><td>52.7214286</td>\n",
       "<td>0.6510108</td>\n",
       "<td>0.1980974</td></tr>\n",
       "<tr><td>57.5142857</td>\n",
       "<td>0.6510108</td>\n",
       "<td>0.1980974</td></tr>\n",
       "<tr><td>62.3071429</td>\n",
       "<td>0.6510108</td>\n",
       "<td>0.1980974</td></tr>\n",
       "<tr><td>67.1</td>\n",
       "<td>0.6510108</td>\n",
       "<td>0.1980974</td></tr></table></div>"
      ],
      "text/plain": [
       "bmi      mean_response    stddev_response\n",
       "-------  ---------------  -----------------\n",
       "0        0.220195         0.240167\n",
       "4.79286  0.220195         0.240167\n",
       "9.58571  0.183113         0.237937\n",
       "14.3786  0.183113         0.237937\n",
       "19.1714  0.183165         0.237922\n",
       "23.9643  0.175634         0.236882\n",
       "28.7571  0.304443         0.270401\n",
       "33.55    0.380475         0.305857\n",
       "38.3429  0.409063         0.29397\n",
       "43.1357  0.433736         0.291493\n",
       "47.9286  0.516682         0.232053\n",
       "52.7214  0.651011         0.198097\n",
       "57.5143  0.651011         0.198097\n",
       "62.3071  0.651011         0.198097\n",
       "67.1     0.651011         0.198097"
      ]
     },
     "metadata": {},
     "output_type": "display_data"
    },
    {
     "data": {
      "text/plain": [
       "[]"
      ]
     },
     "execution_count": 16,
     "metadata": {},
     "output_type": "execute_result"
    },
    {
     "data": {
      "image/png": "[encoded data removed]",
      "text/plain": [
       "<matplotlib.figure.Figure at 0xa2a851518>"
      ]
     },
     "metadata": {},
     "output_type": "display_data"
    }
   ],
   "source": [
    "# Partial Dependence Plot for GBM\n",
    "%matplotlib inline\n",
    "diabetes_gbm.partial_plot(train, cols = ['bmi'], nbins = 15, plot = True, plot_stddev = True)"
   ]
  },
  {
   "cell_type": "code",
   "execution_count": 17,
   "metadata": {
    "scrolled": false
   },
   "outputs": [
    {
     "name": "stdout",
     "output_type": "stream",
     "text": [
      "PartialDependencePlot progress: |█████████████████████████████████████████| 100%\n",
      "PartialDependence: Partial Dependence Plot of model GBM_model_python_1528370006124_105 on column 'age'\n",
      "\n"
     ]
    },
    {
     "data": {
      "text/html": [
       "<div style=\"overflow:auto\"><table style=\"width:50%\"><tr><td><b>age</b></td>\n",
       "<td><b>mean_response</b></td>\n",
       "<td><b>stddev_response</b></td></tr>\n",
       "<tr><td>21.0</td>\n",
       "<td>0.2930663</td>\n",
       "<td>0.2964987</td></tr>\n",
       "<tr><td>27.6666667</td>\n",
       "<td>0.3194981</td>\n",
       "<td>0.3053542</td></tr>\n",
       "<tr><td>34.3333333</td>\n",
       "<td>0.3716971</td>\n",
       "<td>0.3059116</td></tr>\n",
       "<tr><td>41.0</td>\n",
       "<td>0.3820577</td>\n",
       "<td>0.3060275</td></tr>\n",
       "<tr><td>47.6666667</td>\n",
       "<td>0.4310430</td>\n",
       "<td>0.2940196</td></tr>\n",
       "<tr><td>54.3333333</td>\n",
       "<td>0.5088553</td>\n",
       "<td>0.2828082</td></tr>\n",
       "<tr><td>61.0</td>\n",
       "<td>0.3019884</td>\n",
       "<td>0.2896684</td></tr>\n",
       "<tr><td>67.6666667</td>\n",
       "<td>0.3019884</td>\n",
       "<td>0.2896684</td></tr>\n",
       "<tr><td>74.3333333</td>\n",
       "<td>0.3019884</td>\n",
       "<td>0.2896684</td></tr>\n",
       "<tr><td>81.0</td>\n",
       "<td>0.3019884</td>\n",
       "<td>0.2896684</td></tr></table></div>"
      ],
      "text/plain": [
       "age      mean_response    stddev_response\n",
       "-------  ---------------  -----------------\n",
       "21       0.293066         0.296499\n",
       "27.6667  0.319498         0.305354\n",
       "34.3333  0.371697         0.305912\n",
       "41       0.382058         0.306028\n",
       "47.6667  0.431043         0.29402\n",
       "54.3333  0.508855         0.282808\n",
       "61       0.301988         0.289668\n",
       "67.6667  0.301988         0.289668\n",
       "74.3333  0.301988         0.289668\n",
       "81       0.301988         0.289668"
      ]
     },
     "metadata": {},
     "output_type": "display_data"
    },
    {
     "data": {
      "text/plain": [
       "[]"
      ]
     },
     "execution_count": 17,
     "metadata": {},
     "output_type": "execute_result"
    },
    {
     "data": {
      "image/png": "[encoded data removed]",
      "text/plain": [
       "<matplotlib.figure.Figure at 0xa2aa339e8>"
      ]
     },
     "metadata": {},
     "output_type": "display_data"
    }
   ],
   "source": [
    "# Partial Dependence Plot for GBM\n",
    "%matplotlib inline\n",
    "diabetes_gbm.partial_plot(train, cols = ['age'], nbins = 10, plot = True, plot_stddev = True)"
   ]
  },
  {
   "cell_type": "markdown",
   "metadata": {},
   "source": [
    "**Conclusion: Diabetes risk starts to climb for Pima Indian women in the late 20's.**"
   ]
  },
  {
   "cell_type": "code",
   "execution_count": 18,
   "metadata": {
    "scrolled": false
   },
   "outputs": [
    {
     "name": "stdout",
     "output_type": "stream",
     "text": [
      "PartialDependencePlot progress: |█████████████████████████████████████████| 100%\n",
      "PartialDependence: Partial Dependence Plot of model GBM_model_python_1528370006124_105 on column 'pedi'\n",
      "\n"
     ]
    },
    {
     "data": {
      "text/html": [
       "<div style=\"overflow:auto\"><table style=\"width:50%\"><tr><td><b>pedi</b></td>\n",
       "<td><b>mean_response</b></td>\n",
       "<td><b>stddev_response</b></td></tr>\n",
       "<tr><td>0.084</td>\n",
       "<td>0.2571142</td>\n",
       "<td>0.2737463</td></tr>\n",
       "<tr><td>0.1695417</td>\n",
       "<td>0.2284983</td>\n",
       "<td>0.2515856</td></tr>\n",
       "<tr><td>0.2550833</td>\n",
       "<td>0.3022523</td>\n",
       "<td>0.2883810</td></tr>\n",
       "<tr><td>0.340625</td>\n",
       "<td>0.3528115</td>\n",
       "<td>0.3184092</td></tr>\n",
       "<tr><td>0.4261667</td>\n",
       "<td>0.3429958</td>\n",
       "<td>0.3168431</td></tr>\n",
       "<tr><td>---</td>\n",
       "<td>---</td>\n",
       "<td>---</td></tr>\n",
       "<tr><td>1.7948333</td>\n",
       "<td>0.3325555</td>\n",
       "<td>0.2716328</td></tr>\n",
       "<tr><td>1.8803750</td>\n",
       "<td>0.3325555</td>\n",
       "<td>0.2716328</td></tr>\n",
       "<tr><td>1.9659167</td>\n",
       "<td>0.3325555</td>\n",
       "<td>0.2716328</td></tr>\n",
       "<tr><td>2.0514583</td>\n",
       "<td>0.3325555</td>\n",
       "<td>0.2716328</td></tr>\n",
       "<tr><td>2.137</td>\n",
       "<td>0.3325555</td>\n",
       "<td>0.2716328</td></tr></table></div>"
      ],
      "text/plain": [
       "pedi                 mean_response        stddev_response\n",
       "-------------------  -------------------  -------------------\n",
       "0.084                0.2571141619611664   0.27374634295473055\n",
       "0.16954166666666667  0.22849831584901964  0.2515855959400093\n",
       "0.25508333333333333  0.3022522563446079   0.28838097866479107\n",
       "0.340625             0.35281146306562045  0.3184092116775461\n",
       "0.4261666666666667   0.34299577153995436  0.316843075939106\n",
       "---                  ---                  ---\n",
       "1.7948333333333335   0.33255546580609147  0.2716328268127648\n",
       "1.8803750000000001   0.33255546580609147  0.2716328268127648\n",
       "1.9659166666666668   0.33255546580609147  0.2716328268127648\n",
       "2.051458333333333    0.33255546580609147  0.2716328268127648\n",
       "2.137                0.33255546580609147  0.2716328268127648"
      ]
     },
     "metadata": {},
     "output_type": "display_data"
    },
    {
     "name": "stdout",
     "output_type": "stream",
     "text": [
      "\n",
      "See the whole table with table.as_data_frame()\n"
     ]
    },
    {
     "data": {
      "text/plain": [
       "[]"
      ]
     },
     "execution_count": 18,
     "metadata": {},
     "output_type": "execute_result"
    },
    {
     "data": {
      "image/png": "[encoded data removed]",
      "text/plain": [
       "<matplotlib.figure.Figure at 0xa2a9eebe0>"
      ]
     },
     "metadata": {},
     "output_type": "display_data"
    }
   ],
   "source": [
    "# Partial Dependence Plot for GBM\n",
    "%matplotlib inline\n",
    "diabetes_gbm.partial_plot(train, cols = ['pedi'], nbins = 25, plot = True, plot_stddev = True)"
   ]
  },
  {
   "cell_type": "markdown",
   "metadata": {},
   "source": [
    "**Conclusion: Genetic heritage of diabetes in the family significantly increases the risk of developing diabetes, especially for those whose parents and/or siblings have been diagnosed with diabetes.**"
   ]
  },
  {
   "cell_type": "markdown",
   "metadata": {},
   "source": [
    "# GBM Tuning\n",
    "***\n",
    "The two primay methods for tuning the hyper parameters in H2O are grid search and random search."
   ]
  },
  {
   "cell_type": "markdown",
   "metadata": {},
   "source": [
    "### Grid Search\n",
    "***\n",
    "The hyper parameters being tuned are: depth of tree splits, learning rate and early stopping of training."
   ]
  },
  {
   "cell_type": "code",
   "execution_count": 6,
   "metadata": {},
   "outputs": [
    {
     "name": "stdout",
     "output_type": "stream",
     "text": [
      "gbm Grid Build progress: |████████████████████████████████████████████████| 100%\n"
     ]
    }
   ],
   "source": [
    "# Import H2O Grid Search\n",
    "from h2o.grid.grid_search import H2OGridSearch\n",
    "\n",
    "# Use Cartesian Grid Search to find best max depth\n",
    "# Max depth can have a big impact on training time so we will first narrow down the best max depths\n",
    "\n",
    "hyper_params = {'max_depth' : list(range(1, 25, 2))}\n",
    "\n",
    "gbm_grid = H2OGradientBoostingEstimator(\n",
    "    ## more trees is better if the learning rate is small enough \n",
    "    ## here, use \"more than enough\" trees - we have early stopping\n",
    "    ntrees = 30, \n",
    "    \n",
    "    ## smaller learning rate is better\n",
    "    ## since we have learning_rate_annealing, we can afford to start with a bigger learning rate\n",
    "    learn_rate = 0.027,                                                         \n",
    "    \n",
    "    ## learning rate annealing: learning_rate shrinks by 1% after every tree \n",
    "    ## (use 1.00 to disable, but then lower the learning_rate)\n",
    "    learn_rate_annealing = 0.99,                                               \n",
    "    \n",
    "    ## sample 80% of rows per tree\n",
    "    sample_rate = 0.8,                                                       \n",
    "   \n",
    "    ## sample 80% of columns per split\n",
    "    col_sample_rate = 0.8, \n",
    "    \n",
    "    ## fix a random number generator seed for reproducibility\n",
    "    seed = 4321,                                                             \n",
    "    \n",
    "    ## early stopping once the validation AUC doesn't improve by at least 0.01% for 5 consecutive scoring events\n",
    "    stopping_rounds = 5,\n",
    "    stopping_tolerance = 0.001,\n",
    "    stopping_metric = \"AUC\", \n",
    "  \n",
    "    ## score every 10 trees to make early stopping reproducible (it depends on the scoring interval)\n",
    "    score_tree_interval = 10    \n",
    ")\n",
    "\n",
    "# Build grid search with previously made GBM and hyper parameters\n",
    "grid = H2OGridSearch(gbm_grid, \n",
    "                     hyper_params, \n",
    "                     grid_id = 'depth_grid',\n",
    "                     search_criteria = {'strategy': \"Cartesian\"})\n",
    "\n",
    "# Train grid search\n",
    "grid.train(x = inputs, \n",
    "           y = output,\n",
    "           training_frame = train,\n",
    "           validation_frame = valid)"
   ]
  },
  {
   "cell_type": "code",
   "execution_count": 7,
   "metadata": {},
   "outputs": [
    {
     "name": "stdout",
     "output_type": "stream",
     "text": [
      "     max_depth            model_ids             logloss\n",
      "0           11   depth_grid_model_5  0.5584916874339082\n",
      "1           15   depth_grid_model_7  0.5585094614909165\n",
      "2           21  depth_grid_model_10  0.5585094614909165\n",
      "3           23  depth_grid_model_11  0.5585094614909165\n",
      "4           17   depth_grid_model_8  0.5585094614909165\n",
      "5           19   depth_grid_model_9  0.5585094614909165\n",
      "6           13   depth_grid_model_6  0.5585151407151205\n",
      "7            7   depth_grid_model_3   0.558947494173252\n",
      "8            9   depth_grid_model_4   0.559498119053973\n",
      "9            3   depth_grid_model_1  0.5653713606357852\n",
      "10           5   depth_grid_model_2  0.5655820827123121\n",
      "11           1   depth_grid_model_0  0.5758163772055899\n"
     ]
    },
    {
     "data": {
      "text/plain": []
     },
     "execution_count": 7,
     "metadata": {},
     "output_type": "execute_result"
    }
   ],
   "source": [
    "## by default, display the grid search results sorted by increasing logloss (since this is a classification task)\n",
    "grid  "
   ]
  },
  {
   "cell_type": "code",
   "execution_count": 8,
   "metadata": {},
   "outputs": [
    {
     "data": {
      "text/html": [
       "<div>\n",
       "<style scoped>\n",
       "    .dataframe tbody tr th:only-of-type {\n",
       "        vertical-align: middle;\n",
       "    }\n",
       "\n",
       "    .dataframe tbody tr th {\n",
       "        vertical-align: top;\n",
       "    }\n",
       "\n",
       "    .dataframe thead th {\n",
       "        text-align: right;\n",
       "    }\n",
       "</style>\n",
       "<table border=\"1\" class=\"dataframe\">\n",
       "  <thead>\n",
       "    <tr style=\"text-align: right;\">\n",
       "      <th></th>\n",
       "      <th></th>\n",
       "      <th>max_depth</th>\n",
       "      <th>model_ids</th>\n",
       "      <th>auc</th>\n",
       "    </tr>\n",
       "  </thead>\n",
       "  <tbody>\n",
       "    <tr>\n",
       "      <th>0</th>\n",
       "      <td></td>\n",
       "      <td>1</td>\n",
       "      <td>depth_grid_model_0</td>\n",
       "      <td>0.763103318250377</td>\n",
       "    </tr>\n",
       "    <tr>\n",
       "      <th>1</th>\n",
       "      <td></td>\n",
       "      <td>7</td>\n",
       "      <td>depth_grid_model_3</td>\n",
       "      <td>0.7417043740573153</td>\n",
       "    </tr>\n",
       "    <tr>\n",
       "      <th>2</th>\n",
       "      <td></td>\n",
       "      <td>3</td>\n",
       "      <td>depth_grid_model_1</td>\n",
       "      <td>0.7378393665158371</td>\n",
       "    </tr>\n",
       "    <tr>\n",
       "      <th>3</th>\n",
       "      <td></td>\n",
       "      <td>13</td>\n",
       "      <td>depth_grid_model_6</td>\n",
       "      <td>0.7371794871794872</td>\n",
       "    </tr>\n",
       "  </tbody>\n",
       "</table>\n",
       "</div>"
      ],
      "text/plain": [
       "    max_depth           model_ids                 auc\n",
       "0           1  depth_grid_model_0   0.763103318250377\n",
       "1           7  depth_grid_model_3  0.7417043740573153\n",
       "2           3  depth_grid_model_1  0.7378393665158371\n",
       "3          13  depth_grid_model_6  0.7371794871794872"
      ]
     },
     "execution_count": 8,
     "metadata": {},
     "output_type": "execute_result"
    }
   ],
   "source": [
    "## sort the grid models by decreasing AUC\n",
    "\n",
    "sorted_grid = grid.get_grid(sort_by=\"auc\", decreasing = True)    \n",
    "sorted_grid.sorted_metric_table()[0:4]"
   ]
  },
  {
   "cell_type": "markdown",
   "metadata": {},
   "source": [
    "**Conclusion: Shallower trees appear to perform better.**"
   ]
  },
  {
   "cell_type": "code",
   "execution_count": 10,
   "metadata": {},
   "outputs": [
    {
     "name": "stdout",
     "output_type": "stream",
     "text": [
      "New min is  1\n",
      "New max is  13\n"
     ]
    }
   ],
   "source": [
    "## find the range of max_depth for the top 5 models\n",
    "top_depths = sorted_grid.sorted_metric_table()['max_depth'][0:4] \n",
    "new_min = int(min(top_depths, key = int))\n",
    "print('New min is ', new_min)\n",
    "new_max = int(max(top_depths, key = int))\n",
    "print('New max is ', new_max)"
   ]
  },
  {
   "cell_type": "markdown",
   "metadata": {},
   "source": [
    "### Random Search\n",
    "***\n",
    "The random search strategy H2O uses to optimize the hyper parameters is described in [Bergstra J, Bengio Y. Random Search for Hyper-Parameter Optimization. Journal of Machine Learning Research. 2012;  13:281-305.](http://www.jmlr.org/papers/volume13/bergstra12a/bergstra12a.pdf)"
   ]
  },
  {
   "cell_type": "code",
   "execution_count": 11,
   "metadata": {},
   "outputs": [],
   "source": [
    "# Final Random Discrete Hyper-parameterization\n",
    "import math\n",
    "\n",
    "hyper_params_tune = {'max_depth': list(range(new_min, new_max + 1, 1)),\n",
    "                     'sample_rate': [x/100. for x in range(20, 101)],\n",
    "                     'col_sample_rate': [x/100. for x in range(20, 101)],\n",
    "                     'min_rows': [2**x for x in range(0, int(math.log(train.nrow, 2) - 1) + 1)],\n",
    "                     'nbins_cats': [2**x for x in range(4, 13, 1)],\n",
    "                     'histogram_type': [\"UniformAdaptive\", \"QuantilesGlobal\"]\n",
    "                    }\n",
    "\n",
    "search_criteria_tune = {\n",
    "    ## Random grid search\n",
    "    'strategy': \"RandomDiscrete\",\n",
    "    \n",
    "    ## limit the runtime to 60 minutes\n",
    "    'max_runtime_secs': 3600,         \n",
    "  \n",
    "    ## build no more than 100 models\n",
    "    'max_models': 100,                  \n",
    "  \n",
    "    ## random number generator seed to make sampling of parameter combinations reproducible\n",
    "    'seed': 4321,                        \n",
    "  \n",
    "    ## early stopping once the leaderboard of the top 5 models is converged to 0.1% relative difference\n",
    "    'stopping_rounds': 5,                \n",
    "    'stopping_metric': \"AUC\",\n",
    "    'stopping_tolerance': 0.001\n",
    "}"
   ]
  },
  {
   "cell_type": "code",
   "execution_count": 12,
   "metadata": {},
   "outputs": [
    {
     "name": "stdout",
     "output_type": "stream",
     "text": [
      "gbm Grid Build progress: |████████████████████████████████████████████████| 100%\n"
     ]
    }
   ],
   "source": [
    "gbm_final_grid = H2OGradientBoostingEstimator(\n",
    "    ## more trees is better if the learning rate is small enough \n",
    "    ## here, use \"more than enough\" trees - we have early stopping\n",
    "    ntrees = 30, \n",
    "    \n",
    "    ## smaller learning rate is better\n",
    "    ## since we have learning_rate_annealing, we can afford to start with a bigger learning rate\n",
    "    learn_rate = 0.027,                                                         \n",
    "    \n",
    "    ## learning rate annealing: learning_rate shrinks by 1% after every tree \n",
    "    ## (use 1.00 to disable, but then lower the learning_rate)\n",
    "    learn_rate_annealing = 0.99,      \n",
    "    \n",
    "    ## fix a random number generator seed for reproducibility\n",
    "    seed = 4321,                                                             \n",
    "    \n",
    "    ## early stopping once the validation AUC doesn't improve by at least 0.01% for 5 consecutive scoring events\n",
    "    stopping_rounds = 5,\n",
    "    stopping_tolerance = 0.001,\n",
    "    stopping_metric = \"AUC\", \n",
    "    \n",
    "    ## early stopping based on timeout (no model should take more than 1 hour - modify as needed)\n",
    "    max_runtime_secs = 3600,\n",
    "  \n",
    "    ## score every 10 trees to make early stopping reproducible (it depends on the scoring interval)\n",
    "    score_tree_interval = 10    \n",
    ")\n",
    "\n",
    "final_grid = H2OGridSearch(gbm_final_grid, \n",
    "                           hyper_params = hyper_params_tune,\n",
    "                           grid_id = 'final_grid',\n",
    "                           search_criteria = search_criteria_tune)\n",
    "\n",
    "# Train final grid search\n",
    "final_grid.train(x = inputs, \n",
    "                 y = output,\n",
    "                 training_frame = train,\n",
    "                 validation_frame = valid)"
   ]
  },
  {
   "cell_type": "code",
   "execution_count": 13,
   "metadata": {},
   "outputs": [
    {
     "data": {
      "text/html": [
       "<div>\n",
       "<style scoped>\n",
       "    .dataframe tbody tr th:only-of-type {\n",
       "        vertical-align: middle;\n",
       "    }\n",
       "\n",
       "    .dataframe tbody tr th {\n",
       "        vertical-align: top;\n",
       "    }\n",
       "\n",
       "    .dataframe thead th {\n",
       "        text-align: right;\n",
       "    }\n",
       "</style>\n",
       "<table border=\"1\" class=\"dataframe\">\n",
       "  <thead>\n",
       "    <tr style=\"text-align: right;\">\n",
       "      <th></th>\n",
       "      <th></th>\n",
       "      <th>col_sample_rate</th>\n",
       "      <th>histogram_type</th>\n",
       "      <th>max_depth</th>\n",
       "      <th>min_rows</th>\n",
       "      <th>nbins_cats</th>\n",
       "      <th>sample_rate</th>\n",
       "      <th>model_ids</th>\n",
       "      <th>auc</th>\n",
       "    </tr>\n",
       "  </thead>\n",
       "  <tbody>\n",
       "    <tr>\n",
       "      <th>0</th>\n",
       "      <td></td>\n",
       "      <td>0.29</td>\n",
       "      <td>UniformAdaptive</td>\n",
       "      <td>13</td>\n",
       "      <td>64.0</td>\n",
       "      <td>16</td>\n",
       "      <td>0.65</td>\n",
       "      <td>final_grid_model_36</td>\n",
       "      <td>0.8376696832579186</td>\n",
       "    </tr>\n",
       "    <tr>\n",
       "      <th>1</th>\n",
       "      <td></td>\n",
       "      <td>0.21</td>\n",
       "      <td>QuantilesGlobal</td>\n",
       "      <td>12</td>\n",
       "      <td>8.0</td>\n",
       "      <td>16</td>\n",
       "      <td>0.89</td>\n",
       "      <td>final_grid_model_75</td>\n",
       "      <td>0.8291855203619909</td>\n",
       "    </tr>\n",
       "    <tr>\n",
       "      <th>2</th>\n",
       "      <td></td>\n",
       "      <td>0.85</td>\n",
       "      <td>QuantilesGlobal</td>\n",
       "      <td>12</td>\n",
       "      <td>64.0</td>\n",
       "      <td>16</td>\n",
       "      <td>0.53</td>\n",
       "      <td>final_grid_model_61</td>\n",
       "      <td>0.8277714932126697</td>\n",
       "    </tr>\n",
       "    <tr>\n",
       "      <th>3</th>\n",
       "      <td></td>\n",
       "      <td>0.26</td>\n",
       "      <td>QuantilesGlobal</td>\n",
       "      <td>10</td>\n",
       "      <td>2.0</td>\n",
       "      <td>16</td>\n",
       "      <td>0.91</td>\n",
       "      <td>final_grid_model_1</td>\n",
       "      <td>0.8231523378582202</td>\n",
       "    </tr>\n",
       "  </tbody>\n",
       "</table>\n",
       "</div>"
      ],
      "text/plain": [
       "    col_sample_rate   histogram_type max_depth min_rows nbins_cats  \\\n",
       "0              0.29  UniformAdaptive        13     64.0         16   \n",
       "1              0.21  QuantilesGlobal        12      8.0         16   \n",
       "2              0.85  QuantilesGlobal        12     64.0         16   \n",
       "3              0.26  QuantilesGlobal        10      2.0         16   \n",
       "\n",
       "  sample_rate            model_ids                 auc  \n",
       "0        0.65  final_grid_model_36  0.8376696832579186  \n",
       "1        0.89  final_grid_model_75  0.8291855203619909  \n",
       "2        0.53  final_grid_model_61  0.8277714932126697  \n",
       "3        0.91   final_grid_model_1  0.8231523378582202  "
      ]
     },
     "execution_count": 13,
     "metadata": {},
     "output_type": "execute_result"
    }
   ],
   "source": [
    "## Sort the grid models by AUC\n",
    "\n",
    "sorted_final_grid = final_grid.get_grid(sort_by = \"auc\", decreasing = True)    \n",
    "sorted_final_grid.sorted_metric_table()[0:4]"
   ]
  },
  {
   "cell_type": "code",
   "execution_count": 14,
   "metadata": {},
   "outputs": [
    {
     "name": "stdout",
     "output_type": "stream",
     "text": [
      "AUC on validation: 0.8376696832579186\n",
      "AUC on test: 0.8376696832579186\n"
     ]
    }
   ],
   "source": [
    "# Final Test Scoring\n",
    "# How well does our best model do on the final hold out dataset\n",
    "\n",
    "best_model = h2o.get_model(sorted_final_grid.sorted_metric_table()['model_ids'][0])\n",
    "performance_best_model = best_model.model_performance(valid)\n",
    "\n",
    "print(\"AUC on validation: \" + str(best_model.auc(valid = True)))\n",
    "print(\"AUC on test: \" + str(performance_best_model.auc()))"
   ]
  },
  {
   "cell_type": "markdown",
   "metadata": {},
   "source": [
    "**Using H2O's grid search module did not improve model accuracy over the default settings. Imploying a random search strategy only increased accuracy by one percentage point over the defaults.**"
   ]
  },
  {
   "cell_type": "markdown",
   "metadata": {},
   "source": [
    "## Stacked Ensembles\n",
    "***\n"
   ]
  },
  {
   "cell_type": "code",
   "execution_count": 2,
   "metadata": {},
   "outputs": [
    {
     "name": "stdout",
     "output_type": "stream",
     "text": [
      "gbm Model Build progress: |███████████████████████████████████████████████| 100%\n",
      "drf Model Build progress: |███████████████████████████████████████████████| 100%\n",
      "stackedensemble Model Build progress: |███████████████████████████████████| 100%\n",
      "Best Base-learner Test AUC:  0.8235904531304048\n",
      "Ensemble Test AUC:  0.8235904531304048\n",
      "stackedensemble prediction progress: |████████████████████████████████████| 100%\n",
      "gbm Grid Build progress: |████████████████████████████████████████████████| 100%\n",
      "stackedensemble Model Build progress: |███████████████████████████████████| 100%\n",
      "Best Base-learner Test AUC:  0.837512971290211\n",
      "Ensemble Test AUC:  0.825492909028018\n",
      "stackedensemble prediction progress: |████████████████████████████████████| 100%\n"
     ]
    }
   ],
   "source": [
    "#import h2o\n",
    "from h2o.estimators import H2OGeneralizedLinearEstimator\n",
    "from h2o.estimators.random_forest import H2ORandomForestEstimator\n",
    "from h2o.estimators.gbm import H2OGradientBoostingEstimator\n",
    "from h2o.estimators import H2ODeepLearningEstimator\n",
    "from h2o.estimators.stackedensemble import H2OStackedEnsembleEstimator\n",
    "from h2o.grid.grid_search import H2OGridSearch\n",
    "from __future__ import print_function\n",
    "\n",
    "# create training and test datasets for model validation\n",
    "train, valid = diabetes.split_frame(ratios = [.8], seed = 4321)\n",
    "\n",
    "# Identify predictors and response\n",
    "inputs = train.columns\n",
    "output = \"class\"\n",
    "inputs.remove(output)\n",
    "\n",
    "# For binary classification, response should be a factor\n",
    "train[output] = train[output].asfactor()\n",
    "valid[output] = valid[output].asfactor()\n",
    "\n",
    "# Number of CV folds (to generate level-one data for stacking)\n",
    "nfolds = 5\n",
    "\n",
    "# There are a few ways to assemble a list of models to stack together:\n",
    "# 1. Train individual models and put them in a list\n",
    "# 2. Train a grid of models\n",
    "# 3. Train several grids of models\n",
    "# Note: All base models must have the same cross-validation folds and\n",
    "# the cross-validated predicted values must be kept.\n",
    "\n",
    "\n",
    "# 1. Generate a 2-model ensemble (GBM + RF)\n",
    "\n",
    "# Train and cross-validate a GBM\n",
    "my_gbm = H2OGradientBoostingEstimator(distribution=\"bernoulli\",\n",
    "                                      ntrees=30,\n",
    "                                      max_depth=23,\n",
    "                                      min_rows=2,\n",
    "                                      learn_rate=0.027,\n",
    "                                      nfolds=nfolds,\n",
    "                                      fold_assignment=\"Modulo\",\n",
    "                                      keep_cross_validation_predictions=True,\n",
    "                                      seed=1)\n",
    "my_gbm.train(x=inputs, y=output, training_frame=train)\n",
    "\n",
    "\n",
    "# Train and cross-validate a RF\n",
    "my_rf = H2ORandomForestEstimator(ntrees=50,\n",
    "                                 nfolds=nfolds,\n",
    "                                 fold_assignment=\"Modulo\",\n",
    "                                 keep_cross_validation_predictions=True,\n",
    "                                 seed=1)\n",
    "my_rf.train(x=inputs, y=output, training_frame=train)\n",
    "\n",
    "\n",
    "# Train a stacked ensemble using the GBM and GLM above\n",
    "ensemble = H2OStackedEnsembleEstimator(model_id=\"my_ensemble_binomial\",\n",
    "                                       base_models=[my_gbm, my_rf])\n",
    "ensemble.train(x=inputs, y=output, training_frame=train)\n",
    "\n",
    "# Eval ensemble performance on the test data\n",
    "perf_stack_test = ensemble.model_performance(valid)\n",
    "\n",
    "# Compare to base learner performance on the test set\n",
    "perf_gbm_test = my_gbm.model_performance(valid)\n",
    "perf_rf_test = my_rf.model_performance(valid)\n",
    "baselearner_best_auc_test = max(perf_gbm_test.auc(), perf_rf_test.auc())\n",
    "stack_auc_test = perf_stack_test.auc()\n",
    "print(\"Best Base-learner Test AUC:  {0}\".format(baselearner_best_auc_test))\n",
    "print(\"Ensemble Test AUC:  {0}\".format(stack_auc_test))\n",
    "\n",
    "# Generate predictions on a test set (if neccessary)\n",
    "pred = ensemble.predict(valid)\n",
    "\n",
    "\n",
    "# 2. Generate a random grid of models and stack them together\n",
    "\n",
    "# Specify GBM hyperparameters for the grid\n",
    "hyper_params = {\"learn_rate\": [0.01, 0.03],\n",
    "                \"max_depth\": [6, 12, 23],\n",
    "                \"sample_rate\": [0.7, 0.8, 0.9, 1.0],\n",
    "                \"col_sample_rate\": [0.5, 0.6, 0.7, 0.8, 0.9]}\n",
    "search_criteria = {\"strategy\": \"RandomDiscrete\", \"max_models\": 30, \"seed\": 1}\n",
    "\n",
    "# Train the grid\n",
    "grid = H2OGridSearch(model=H2OGradientBoostingEstimator(ntrees=10,\n",
    "                                                        seed=1,\n",
    "                                                        nfolds=nfolds,\n",
    "                                                        fold_assignment=\"Modulo\",\n",
    "                                                        keep_cross_validation_predictions=True),\n",
    "                     hyper_params=hyper_params,\n",
    "                     search_criteria=search_criteria,\n",
    "                     grid_id=\"gbm_grid_binomial\")\n",
    "grid.train(x=inputs, y=output, training_frame=train)\n",
    "\n",
    "# Train a stacked ensemble using the GBM grid\n",
    "ensemble = H2OStackedEnsembleEstimator(model_id=\"my_ensemble_gbm_grid_binomial\",\n",
    "                                       base_models=grid.model_ids)\n",
    "ensemble.train(x=inputs, y=output, training_frame=train)\n",
    "\n",
    "# Eval ensemble performance on the test data\n",
    "perf_stack_test = ensemble.model_performance(valid)\n",
    "\n",
    "# Compare to base learner performance on the test set\n",
    "baselearner_best_auc_test = max([h2o.get_model(model).model_performance(test_data=valid).auc() for model in grid.model_ids])\n",
    "stack_auc_test = perf_stack_test.auc()\n",
    "print(\"Best Base-learner Test AUC:  {0}\".format(baselearner_best_auc_test))\n",
    "print(\"Ensemble Test AUC:  {0}\".format(stack_auc_test))\n",
    "\n",
    "# Generate predictions on a test set (if neccessary)\n",
    "pred = ensemble.predict(valid)"
   ]
  },
  {
   "cell_type": "markdown",
   "metadata": {},
   "source": [
    "**Conclusion: The ensemble accuracy on the validation data is very close to the accuracy of the best model above (DRF).**"
   ]
  },
  {
   "cell_type": "markdown",
   "metadata": {},
   "source": [
    "# AutoML\n",
    "***\n",
    "End-to-End Machine Learning"
   ]
  },
  {
   "cell_type": "code",
   "execution_count": 5,
   "metadata": {},
   "outputs": [
    {
     "name": "stdout",
     "output_type": "stream",
     "text": [
      "AutoML progress: |████████████████████████████████████████████████████████| 100%\n",
      "Parse progress: |█████████████████████████████████████████████████████████| 100%\n"
     ]
    },
    {
     "data": {
      "text/html": [
       "<table>\n",
       "<thead>\n",
       "<tr><th>model_id                                             </th><th style=\"text-align: right;\">     auc</th><th style=\"text-align: right;\">  logloss</th></tr>\n",
       "</thead>\n",
       "<tbody>\n",
       "<tr><td>StackedEnsemble_BestOfFamily_0_AutoML_20180607_104017</td><td style=\"text-align: right;\">0.84357 </td><td style=\"text-align: right;\"> 0.466499</td></tr>\n",
       "<tr><td>StackedEnsemble_AllModels_0_AutoML_20180607_104017   </td><td style=\"text-align: right;\">0.841122</td><td style=\"text-align: right;\"> 0.470411</td></tr>\n",
       "<tr><td>DeepLearning_grid_0_AutoML_20180607_104017_model_1   </td><td style=\"text-align: right;\">0.837689</td><td style=\"text-align: right;\"> 0.486191</td></tr>\n",
       "<tr><td>GBM_grid_0_AutoML_20180607_104017_model_6            </td><td style=\"text-align: right;\">0.835543</td><td style=\"text-align: right;\"> 0.580569</td></tr>\n",
       "<tr><td>GLM_grid_0_AutoML_20180607_104017_model_0            </td><td style=\"text-align: right;\">0.834603</td><td style=\"text-align: right;\"> 0.469433</td></tr>\n",
       "<tr><td>XRT_0_AutoML_20180607_104017                         </td><td style=\"text-align: right;\">0.832804</td><td style=\"text-align: right;\"> 0.595437</td></tr>\n",
       "<tr><td>GBM_grid_0_AutoML_20180607_104017_model_9            </td><td style=\"text-align: right;\">0.830101</td><td style=\"text-align: right;\"> 0.479364</td></tr>\n",
       "<tr><td>GBM_grid_0_AutoML_20180607_104017_model_0            </td><td style=\"text-align: right;\">0.828695</td><td style=\"text-align: right;\"> 0.501163</td></tr>\n",
       "<tr><td>DeepLearning_grid_0_AutoML_20180607_104017_model_2   </td><td style=\"text-align: right;\">0.827206</td><td style=\"text-align: right;\"> 0.509586</td></tr>\n",
       "<tr><td>GBM_grid_0_AutoML_20180607_104017_model_1            </td><td style=\"text-align: right;\">0.825499</td><td style=\"text-align: right;\"> 0.492753</td></tr>\n",
       "</tbody>\n",
       "</table>"
      ]
     },
     "metadata": {},
     "output_type": "display_data"
    },
    {
     "name": "stdout",
     "output_type": "stream",
     "text": [
      "\n"
     ]
    }
   ],
   "source": [
    "#import h2o\n",
    "from h2o.automl import H2OAutoML\n",
    "\n",
    "# create training and test datasets for model validation\n",
    "train, valid = diabetes.split_frame(ratios = [.8], seed = 4321)\n",
    "\n",
    "# Identify predictors and response\n",
    "inputs = train.columns\n",
    "output = \"class\"\n",
    "inputs.remove(output)\n",
    "\n",
    "# For binary classification, response should be a factor\n",
    "train[output] = train[output].asfactor()\n",
    "valid[output] = valid[output].asfactor()\n",
    "\n",
    "# Run AutoML for 30 seconds\n",
    "aml = H2OAutoML(max_runtime_secs = 60)\n",
    "aml.train(x = inputs, y = output,\n",
    "          training_frame = train)\n",
    "\n",
    "# View the AutoML Leaderboard\n",
    "lb = aml.leaderboard\n",
    "print(lb)\n",
    "\n",
    "# The leader model is stored here\n",
    "#aml.leader\n",
    "\n",
    "# If you need to generate predictions on a test set, you can make\n",
    "# predictions directly on the `\"H2OAutoML\"` object, or on the leader\n",
    "# model object directly\n",
    "\n",
    "#preds = aml.predict(valid)\n",
    "\n",
    "# or:\n",
    "#preds = aml.leader.predict(valid)"
   ]
  },
  {
   "cell_type": "markdown",
   "metadata": {},
   "source": [
    "**Conclusion: AutoML beat the best accuracy score of all other models and improved the accuracy of the ensemble as well. Tip: Increase the run time to allow more training epochs, e.g. from 30 sec to 60 sec.**"
   ]
  },
  {
   "cell_type": "code",
   "execution_count": 28,
   "metadata": {},
   "outputs": [
    {
     "name": "stdout",
     "output_type": "stream",
     "text": [
      "H2O session _sid_8efe closed.\n"
     ]
    }
   ],
   "source": [
    "# Shutdown h2o cluster\n",
    "#h2o.cluster().shutdown()"
   ]
  }
 ],
 "metadata": {
  "kernelspec": {
   "display_name": "Python 3",
   "language": "python",
   "name": "python3"
  },
  "language_info": {
   "codemirror_mode": {
    "name": "ipython",
    "version": 3
   },
   "file_extension": ".py",
   "mimetype": "text/x-python",
   "name": "python",
   "nbconvert_exporter": "python",
   "pygments_lexer": "ipython3",
   "version": "3.6.3"
  }
 },
 "nbformat": 4,
 "nbformat_minor": 2
}
